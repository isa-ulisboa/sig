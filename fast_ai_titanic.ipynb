{
  "metadata": {
    "kernelspec": {
      "display_name": "Python 3",
      "language": "python",
      "name": "python3"
    },
    "language_info": {
      "name": "python",
      "version": "3.6.6",
      "mimetype": "text/x-python",
      "codemirror_mode": {
        "name": "ipython",
        "version": 3
      },
      "pygments_lexer": "ipython3",
      "nbconvert_exporter": "python",
      "file_extension": ".py"
    },
    "colab": {
      "provenance": [],
      "include_colab_link": true
    }
  },
  "nbformat_minor": 0,
  "nbformat": 4,
  "cells": [
    {
      "cell_type": "markdown",
      "metadata": {
        "id": "view-in-github",
        "colab_type": "text"
      },
      "source": [
        "<a href=\"https://colab.research.google.com/github/isa-ulisboa/sig/blob/main/fast_ai_titanic.ipynb\" target=\"_parent\"><img src=\"https://colab.research.google.com/assets/colab-badge.svg\" alt=\"Open In Colab\"/></a>"
      ]
    },
    {
      "cell_type": "markdown",
      "source": [
        "# Predicting survival of Titanic passengers"
      ],
      "metadata": {
        "_uuid": "6e7c0bacbf94d39e845c423e073d01f40ef5ce06",
        "id": "bF513y3hRfi-"
      }
    },
    {
      "cell_type": "markdown",
      "source": [
        "Works with fastai version 2.7.11"
      ],
      "metadata": {
        "id": "2M0eWqp7wS9z"
      }
    },
    {
      "cell_type": "code",
      "source": [
        "#!pip install -q fastai --upgrade\n",
        "\n"
      ],
      "metadata": {
        "_kg_hide-output": true,
        "_uuid": "b5c0e126fb04084d9410e604710ea8b631adf512",
        "trusted": true,
        "id": "5ZHM4jeORfjB"
      },
      "execution_count": 79,
      "outputs": []
    },
    {
      "cell_type": "code",
      "source": [
        "import fastai\n",
        "print(fastai.__version__)"
      ],
      "metadata": {
        "id": "k48bUP5TwH4d",
        "outputId": "90bdfea5-66f7-4457-ff57-9d8efe8df63d",
        "colab": {
          "base_uri": "https://localhost:8080/"
        }
      },
      "execution_count": 80,
      "outputs": [
        {
          "output_type": "stream",
          "name": "stdout",
          "text": [
            "2.7.12\n"
          ]
        }
      ]
    },
    {
      "cell_type": "code",
      "source": [
        "from fastai import *\n",
        "from fastai.tabular.all import *\n",
        "import pandas as pd"
      ],
      "metadata": {
        "_uuid": "478f17b598c34f2b041aea49e948fd094e73e389",
        "trusted": true,
        "id": "_bMtDRpFRfjD"
      },
      "execution_count": 81,
      "outputs": []
    },
    {
      "cell_type": "code",
      "source": [
        "from google.colab import drive\n",
        "drive.mount('/content/drive')"
      ],
      "metadata": {
        "id": "aqU8seKijb66",
        "outputId": "effc71ef-7774-4f61-ae38-09a113cf8584",
        "colab": {
          "base_uri": "https://localhost:8080/"
        }
      },
      "execution_count": 82,
      "outputs": [
        {
          "output_type": "stream",
          "name": "stdout",
          "text": [
            "Drive already mounted at /content/drive; to attempt to forcibly remount, call drive.mount(\"/content/drive\", force_remount=True).\n"
          ]
        }
      ]
    },
    {
      "cell_type": "markdown",
      "source": [
        "## Load data"
      ],
      "metadata": {
        "_uuid": "781c1e7cdfd6cece063566237384553f507f5deb",
        "id": "xUox0AQGRfjE"
      }
    },
    {
      "cell_type": "code",
      "source": [
        "train_df = pd.read_csv('/content/drive/MyDrive/AAA/Lesson_5/titanic_data/train.csv')\n",
        "test_df = pd.read_csv('/content/drive/MyDrive/AAA/Lesson_5/titanic_data/test.csv')\n",
        "print(train_df.shape,test_df.shape)\n",
        "train_df.head()"
      ],
      "metadata": {
        "_uuid": "b9e4798c15c7a87d5226e0f26a643fc8875235f3",
        "trusted": true,
        "id": "2YdyzKnORfjF",
        "outputId": "65b2fa16-54fa-47c8-bf46-38beecb78545",
        "colab": {
          "base_uri": "https://localhost:8080/",
          "height": 303
        }
      },
      "execution_count": 83,
      "outputs": [
        {
          "output_type": "stream",
          "name": "stdout",
          "text": [
            "(891, 12) (418, 11)\n"
          ]
        },
        {
          "output_type": "execute_result",
          "data": {
            "text/plain": [
              "   PassengerId  Survived  Pclass  \\\n",
              "0            1         0       3   \n",
              "1            2         1       1   \n",
              "2            3         1       3   \n",
              "3            4         1       1   \n",
              "4            5         0       3   \n",
              "\n",
              "                                                  Name     Sex   Age  SibSp  \\\n",
              "0                              Braund, Mr. Owen Harris    male  22.0      1   \n",
              "1  Cumings, Mrs. John Bradley (Florence Briggs Thayer)  female  38.0      1   \n",
              "2                               Heikkinen, Miss. Laina  female  26.0      0   \n",
              "3         Futrelle, Mrs. Jacques Heath (Lily May Peel)  female  35.0      1   \n",
              "4                             Allen, Mr. William Henry    male  35.0      0   \n",
              "\n",
              "   Parch            Ticket     Fare Cabin Embarked  \n",
              "0      0         A/5 21171   7.2500   NaN        S  \n",
              "1      0          PC 17599  71.2833   C85        C  \n",
              "2      0  STON/O2. 3101282   7.9250   NaN        S  \n",
              "3      0            113803  53.1000  C123        S  \n",
              "4      0            373450   8.0500   NaN        S  "
            ],
            "text/html": [
              "\n",
              "  <div id=\"df-ab6f6651-1063-4952-8d0a-7e911d32079f\">\n",
              "    <div class=\"colab-df-container\">\n",
              "      <div>\n",
              "<style scoped>\n",
              "    .dataframe tbody tr th:only-of-type {\n",
              "        vertical-align: middle;\n",
              "    }\n",
              "\n",
              "    .dataframe tbody tr th {\n",
              "        vertical-align: top;\n",
              "    }\n",
              "\n",
              "    .dataframe thead th {\n",
              "        text-align: right;\n",
              "    }\n",
              "</style>\n",
              "<table border=\"1\" class=\"dataframe\">\n",
              "  <thead>\n",
              "    <tr style=\"text-align: right;\">\n",
              "      <th></th>\n",
              "      <th>PassengerId</th>\n",
              "      <th>Survived</th>\n",
              "      <th>Pclass</th>\n",
              "      <th>Name</th>\n",
              "      <th>Sex</th>\n",
              "      <th>Age</th>\n",
              "      <th>SibSp</th>\n",
              "      <th>Parch</th>\n",
              "      <th>Ticket</th>\n",
              "      <th>Fare</th>\n",
              "      <th>Cabin</th>\n",
              "      <th>Embarked</th>\n",
              "    </tr>\n",
              "  </thead>\n",
              "  <tbody>\n",
              "    <tr>\n",
              "      <th>0</th>\n",
              "      <td>1</td>\n",
              "      <td>0</td>\n",
              "      <td>3</td>\n",
              "      <td>Braund, Mr. Owen Harris</td>\n",
              "      <td>male</td>\n",
              "      <td>22.0</td>\n",
              "      <td>1</td>\n",
              "      <td>0</td>\n",
              "      <td>A/5 21171</td>\n",
              "      <td>7.2500</td>\n",
              "      <td>NaN</td>\n",
              "      <td>S</td>\n",
              "    </tr>\n",
              "    <tr>\n",
              "      <th>1</th>\n",
              "      <td>2</td>\n",
              "      <td>1</td>\n",
              "      <td>1</td>\n",
              "      <td>Cumings, Mrs. John Bradley (Florence Briggs Thayer)</td>\n",
              "      <td>female</td>\n",
              "      <td>38.0</td>\n",
              "      <td>1</td>\n",
              "      <td>0</td>\n",
              "      <td>PC 17599</td>\n",
              "      <td>71.2833</td>\n",
              "      <td>C85</td>\n",
              "      <td>C</td>\n",
              "    </tr>\n",
              "    <tr>\n",
              "      <th>2</th>\n",
              "      <td>3</td>\n",
              "      <td>1</td>\n",
              "      <td>3</td>\n",
              "      <td>Heikkinen, Miss. Laina</td>\n",
              "      <td>female</td>\n",
              "      <td>26.0</td>\n",
              "      <td>0</td>\n",
              "      <td>0</td>\n",
              "      <td>STON/O2. 3101282</td>\n",
              "      <td>7.9250</td>\n",
              "      <td>NaN</td>\n",
              "      <td>S</td>\n",
              "    </tr>\n",
              "    <tr>\n",
              "      <th>3</th>\n",
              "      <td>4</td>\n",
              "      <td>1</td>\n",
              "      <td>1</td>\n",
              "      <td>Futrelle, Mrs. Jacques Heath (Lily May Peel)</td>\n",
              "      <td>female</td>\n",
              "      <td>35.0</td>\n",
              "      <td>1</td>\n",
              "      <td>0</td>\n",
              "      <td>113803</td>\n",
              "      <td>53.1000</td>\n",
              "      <td>C123</td>\n",
              "      <td>S</td>\n",
              "    </tr>\n",
              "    <tr>\n",
              "      <th>4</th>\n",
              "      <td>5</td>\n",
              "      <td>0</td>\n",
              "      <td>3</td>\n",
              "      <td>Allen, Mr. William Henry</td>\n",
              "      <td>male</td>\n",
              "      <td>35.0</td>\n",
              "      <td>0</td>\n",
              "      <td>0</td>\n",
              "      <td>373450</td>\n",
              "      <td>8.0500</td>\n",
              "      <td>NaN</td>\n",
              "      <td>S</td>\n",
              "    </tr>\n",
              "  </tbody>\n",
              "</table>\n",
              "</div>\n",
              "      <button class=\"colab-df-convert\" onclick=\"convertToInteractive('df-ab6f6651-1063-4952-8d0a-7e911d32079f')\"\n",
              "              title=\"Convert this dataframe to an interactive table.\"\n",
              "              style=\"display:none;\">\n",
              "        \n",
              "  <svg xmlns=\"http://www.w3.org/2000/svg\" height=\"24px\"viewBox=\"0 0 24 24\"\n",
              "       width=\"24px\">\n",
              "    <path d=\"M0 0h24v24H0V0z\" fill=\"none\"/>\n",
              "    <path d=\"M18.56 5.44l.94 2.06.94-2.06 2.06-.94-2.06-.94-.94-2.06-.94 2.06-2.06.94zm-11 1L8.5 8.5l.94-2.06 2.06-.94-2.06-.94L8.5 2.5l-.94 2.06-2.06.94zm10 10l.94 2.06.94-2.06 2.06-.94-2.06-.94-.94-2.06-.94 2.06-2.06.94z\"/><path d=\"M17.41 7.96l-1.37-1.37c-.4-.4-.92-.59-1.43-.59-.52 0-1.04.2-1.43.59L10.3 9.45l-7.72 7.72c-.78.78-.78 2.05 0 2.83L4 21.41c.39.39.9.59 1.41.59.51 0 1.02-.2 1.41-.59l7.78-7.78 2.81-2.81c.8-.78.8-2.07 0-2.86zM5.41 20L4 18.59l7.72-7.72 1.47 1.35L5.41 20z\"/>\n",
              "  </svg>\n",
              "      </button>\n",
              "      \n",
              "  <style>\n",
              "    .colab-df-container {\n",
              "      display:flex;\n",
              "      flex-wrap:wrap;\n",
              "      gap: 12px;\n",
              "    }\n",
              "\n",
              "    .colab-df-convert {\n",
              "      background-color: #E8F0FE;\n",
              "      border: none;\n",
              "      border-radius: 50%;\n",
              "      cursor: pointer;\n",
              "      display: none;\n",
              "      fill: #1967D2;\n",
              "      height: 32px;\n",
              "      padding: 0 0 0 0;\n",
              "      width: 32px;\n",
              "    }\n",
              "\n",
              "    .colab-df-convert:hover {\n",
              "      background-color: #E2EBFA;\n",
              "      box-shadow: 0px 1px 2px rgba(60, 64, 67, 0.3), 0px 1px 3px 1px rgba(60, 64, 67, 0.15);\n",
              "      fill: #174EA6;\n",
              "    }\n",
              "\n",
              "    [theme=dark] .colab-df-convert {\n",
              "      background-color: #3B4455;\n",
              "      fill: #D2E3FC;\n",
              "    }\n",
              "\n",
              "    [theme=dark] .colab-df-convert:hover {\n",
              "      background-color: #434B5C;\n",
              "      box-shadow: 0px 1px 3px 1px rgba(0, 0, 0, 0.15);\n",
              "      filter: drop-shadow(0px 1px 2px rgba(0, 0, 0, 0.3));\n",
              "      fill: #FFFFFF;\n",
              "    }\n",
              "  </style>\n",
              "\n",
              "      <script>\n",
              "        const buttonEl =\n",
              "          document.querySelector('#df-ab6f6651-1063-4952-8d0a-7e911d32079f button.colab-df-convert');\n",
              "        buttonEl.style.display =\n",
              "          google.colab.kernel.accessAllowed ? 'block' : 'none';\n",
              "\n",
              "        async function convertToInteractive(key) {\n",
              "          const element = document.querySelector('#df-ab6f6651-1063-4952-8d0a-7e911d32079f');\n",
              "          const dataTable =\n",
              "            await google.colab.kernel.invokeFunction('convertToInteractive',\n",
              "                                                     [key], {});\n",
              "          if (!dataTable) return;\n",
              "\n",
              "          const docLinkHtml = 'Like what you see? Visit the ' +\n",
              "            '<a target=\"_blank\" href=https://colab.research.google.com/notebooks/data_table.ipynb>data table notebook</a>'\n",
              "            + ' to learn more about interactive tables.';\n",
              "          element.innerHTML = '';\n",
              "          dataTable['output_type'] = 'display_data';\n",
              "          await google.colab.output.renderOutput(dataTable, element);\n",
              "          const docLink = document.createElement('div');\n",
              "          docLink.innerHTML = docLinkHtml;\n",
              "          element.appendChild(docLink);\n",
              "        }\n",
              "      </script>\n",
              "    </div>\n",
              "  </div>\n",
              "  "
            ]
          },
          "metadata": {},
          "execution_count": 83
        }
      ]
    },
    {
      "cell_type": "markdown",
      "source": [
        "## Feature engineering\n",
        "- Extract *Title* from the name colum. \n",
        "- Extract *Deck* from the first character of the cabin number.\n",
        "- Fill in missing *Age* values with the mean age for passengers with the same title."
      ],
      "metadata": {
        "_uuid": "c8d611d693057d4c9694cc8a2e7953a97bbc4ae6",
        "id": "nvB9k3bMRfjG"
      }
    },
    {
      "cell_type": "code",
      "source": [
        "for df in [train_df, test_df]:\n",
        "    df['Title'] = df['Name'].str.split(',').str[1].str.split(' ').str[1]\n",
        "    df['Deck'] = df['Cabin'].str[0]\n",
        "\n",
        "# find mean age for each Title across train and test data sets\n",
        "all_df = pd.concat([train_df, test_df], sort=False)\n",
        "mean_age_by_title = all_df.groupby('Title').mean()['Age']\n",
        "# update missing ages\n",
        "for df in [train_df, test_df]:\n",
        "    for title, age in mean_age_by_title.iteritems():\n",
        "        df.loc[df['Age'].isnull() & (df['Title'] == title), 'Age'] = age"
      ],
      "metadata": {
        "_uuid": "f0b6005d49e96e6bcc68c9c823e8d9e0ea3575f7",
        "trusted": true,
        "id": "dIuNNXOERfjH",
        "outputId": "c9fb71ad-1ce3-4450-bc8b-eb5ab0d7a401",
        "colab": {
          "base_uri": "https://localhost:8080/"
        }
      },
      "execution_count": 84,
      "outputs": [
        {
          "output_type": "stream",
          "name": "stderr",
          "text": [
            "<ipython-input-84-dcf17dc8baed>:7: FutureWarning: The default value of numeric_only in DataFrameGroupBy.mean is deprecated. In a future version, numeric_only will default to False. Either specify numeric_only or select only columns which should be valid for the function.\n",
            "  mean_age_by_title = all_df.groupby('Title').mean()['Age']\n",
            "<ipython-input-84-dcf17dc8baed>:10: FutureWarning: iteritems is deprecated and will be removed in a future version. Use .items instead.\n",
            "  for title, age in mean_age_by_title.iteritems():\n"
          ]
        }
      ]
    },
    {
      "cell_type": "code",
      "source": [
        "test_df.Fare.fillna(0,inplace=True)"
      ],
      "metadata": {
        "_uuid": "a5f56cbe0dc5842bdf849171508d0e4f7a27d969",
        "trusted": true,
        "id": "8c7elrKxRfjI"
      },
      "execution_count": 85,
      "outputs": []
    },
    {
      "cell_type": "code",
      "source": [
        "train_df.shape"
      ],
      "metadata": {
        "id": "nNQZtA5Py24v",
        "outputId": "8c37e85a-bcc3-4be0-cbec-eab54263ef8a",
        "colab": {
          "base_uri": "https://localhost:8080/"
        }
      },
      "execution_count": 86,
      "outputs": [
        {
          "output_type": "execute_result",
          "data": {
            "text/plain": [
              "(891, 14)"
            ]
          },
          "metadata": {},
          "execution_count": 86
        }
      ]
    },
    {
      "cell_type": "markdown",
      "source": [
        "\n",
        "## Fastai setup"
      ],
      "metadata": {
        "_uuid": "a2f8db740bd2d83b147cf6502705f1637af5dc79",
        "id": "Jq6BBWxjRfjJ"
      }
    },
    {
      "cell_type": "code",
      "source": [
        "dep_var = 'Survived'\n",
        "cat_names = ['Pclass', 'Sex', 'Embarked', 'Title', 'Deck']\n",
        "cont_names = ['Age', 'Fare', 'SibSp', 'Parch']\n",
        "procs = [FillMissing,Categorify, Normalize] #, "
      ],
      "metadata": {
        "id": "YnBISX1zTe3W"
      },
      "execution_count": 87,
      "outputs": []
    },
    {
      "cell_type": "markdown",
      "source": [
        "The last part is the list of pre-processors we apply to our data:\n",
        "\n",
        "1. `Categorify` is going to take every categorical variable and make a map from integer to unique categories, then replace the values by the corresponding index.\n",
        "2. `FillMissing` will fill the missing values in the continuous variables by the median of existing values (you can choose a specific value if you prefer)\n",
        "3. `Normalize` will normalize the continuous variables (subtract the mean and divide by the std)\n"
      ],
      "metadata": {
        "id": "9_ek9EyytTG2"
      }
    },
    {
      "cell_type": "code",
      "source": [
        "splits = RandomSplitter(valid_pct=0.2)(range_of(train_df))\n",
        "to = TabularPandas(train_df, procs=[Categorify, FillMissing,Normalize],\n",
        "                   cat_names=cat_names ,\n",
        "                   cont_names = cont_names,\n",
        "                   y_names=dep_var,\n",
        "                   splits=splits,\n",
        "                   y_block = CategoryBlock) # when y's are 0/1 but we don't want to do regression\n",
        "dls = to.dataloaders(bs=64) # dataloaders"
      ],
      "metadata": {
        "id": "np9Vfr6tVPSk"
      },
      "execution_count": 88,
      "outputs": []
    },
    {
      "cell_type": "code",
      "source": [
        "to.train.items['Title']"
      ],
      "metadata": {
        "id": "69xN7ALgSHnK",
        "outputId": "42833c71-398f-48fe-f610-8b15fa30ec86",
        "colab": {
          "base_uri": "https://localhost:8080/"
        }
      },
      "execution_count": 108,
      "outputs": [
        {
          "output_type": "execute_result",
          "data": {
            "text/plain": [
              "188    12\n",
              "333    12\n",
              "203    12\n",
              "40     13\n",
              "273    12\n",
              "       ..\n",
              "278     8\n",
              "393     9\n",
              "609     9\n",
              "166    13\n",
              "7       8\n",
              "Name: Title, Length: 713, dtype: int8"
            ]
          },
          "metadata": {},
          "execution_count": 108
        }
      ]
    },
    {
      "cell_type": "markdown",
      "source": [
        "Build learner, which is a multi-layer neural network, and includes layers for categorical embedding."
      ],
      "metadata": {
        "id": "tOm-FDVSncpu"
      }
    },
    {
      "cell_type": "code",
      "source": [
        "learn = tabular_learner(dls, metrics=accuracy)"
      ],
      "metadata": {
        "id": "gfi-1E0RXYd8"
      },
      "execution_count": 89,
      "outputs": []
    },
    {
      "cell_type": "markdown",
      "source": [
        "`learn.model` does a preview of the model. `LinBnDrop` is a module grouping three components: `BatchNorm1d`, `Dropout` and Linear layers"
      ],
      "metadata": {
        "id": "SsrPBI7Vyffe"
      }
    },
    {
      "cell_type": "code",
      "source": [
        "learn.model"
      ],
      "metadata": {
        "id": "meyR8wS7nxJv",
        "outputId": "6bfb882d-a45e-46d6-b442-84999a7e6476",
        "colab": {
          "base_uri": "https://localhost:8080/"
        }
      },
      "execution_count": 90,
      "outputs": [
        {
          "output_type": "execute_result",
          "data": {
            "text/plain": [
              "TabularModel(\n",
              "  (embeds): ModuleList(\n",
              "    (0): Embedding(4, 3)\n",
              "    (1): Embedding(3, 3)\n",
              "    (2): Embedding(4, 3)\n",
              "    (3): Embedding(18, 8)\n",
              "    (4): Embedding(9, 5)\n",
              "  )\n",
              "  (emb_drop): Dropout(p=0.0, inplace=False)\n",
              "  (bn_cont): BatchNorm1d(4, eps=1e-05, momentum=0.1, affine=True, track_running_stats=True)\n",
              "  (layers): Sequential(\n",
              "    (0): LinBnDrop(\n",
              "      (0): Linear(in_features=26, out_features=200, bias=False)\n",
              "      (1): ReLU(inplace=True)\n",
              "      (2): BatchNorm1d(200, eps=1e-05, momentum=0.1, affine=True, track_running_stats=True)\n",
              "    )\n",
              "    (1): LinBnDrop(\n",
              "      (0): Linear(in_features=200, out_features=100, bias=False)\n",
              "      (1): ReLU(inplace=True)\n",
              "      (2): BatchNorm1d(100, eps=1e-05, momentum=0.1, affine=True, track_running_stats=True)\n",
              "    )\n",
              "    (2): LinBnDrop(\n",
              "      (0): Linear(in_features=100, out_features=2, bias=True)\n",
              "    )\n",
              "  )\n",
              ")"
            ]
          },
          "metadata": {},
          "execution_count": 90
        }
      ]
    },
    {
      "cell_type": "markdown",
      "source": [
        "### Let's look at the categorical embedding part of the network:"
      ],
      "metadata": {
        "id": "I6zlnLEUkgsS"
      }
    },
    {
      "cell_type": "markdown",
      "source": [
        "For fundamentals, see paper \"Entity Embeddings of Categorical Variables\" https://arxiv.org/abs/1604.06737. "
      ],
      "metadata": {
        "id": "bRu_nkOBKsYw"
      }
    },
    {
      "cell_type": "code",
      "source": [
        "print(cat_names)\n",
        "print('number categories for Title:',len(train_df['Title'].unique()),train_df['Title'].unique()) # same as list(train_df['Title'].astype('category').cat.categories.values)\n",
        "print('number categories for Deck:',len(train_df['Deck'].unique()),train_df['Deck'].unique())\n",
        "print(learn.model.embeds) # one row per categorial variable Notice that: cat_names = ['Pclass', 'Sex', 'Embarked', 'Title', 'Deck']"
      ],
      "metadata": {
        "id": "9bKdaXHGyUvt",
        "outputId": "eb37ae2c-a1a7-441b-9256-0056cc9c00ac",
        "colab": {
          "base_uri": "https://localhost:8080/"
        }
      },
      "execution_count": 91,
      "outputs": [
        {
          "output_type": "stream",
          "name": "stdout",
          "text": [
            "['Pclass', 'Sex', 'Embarked', 'Title', 'Deck']\n",
            "number categories for Title: 17 ['Mr.' 'Mrs.' 'Miss.' 'Master.' 'Don.' 'Rev.' 'Dr.' 'Mme.' 'Ms.' 'Major.'\n",
            " 'Lady.' 'Sir.' 'Mlle.' 'Col.' 'Capt.' 'the' 'Jonkheer.']\n",
            "number categories for Deck: 9 [nan 'C' 'E' 'G' 'D' 'A' 'B' 'F' 'T']\n",
            "ModuleList(\n",
            "  (0): Embedding(4, 3)\n",
            "  (1): Embedding(3, 3)\n",
            "  (2): Embedding(4, 3)\n",
            "  (3): Embedding(18, 8)\n",
            "  (4): Embedding(9, 5)\n",
            ")\n"
          ]
        }
      ]
    },
    {
      "cell_type": "markdown",
      "source": [
        "Method `lr_find` helps to find a good learning rate. "
      ],
      "metadata": {
        "id": "NvIo8zv6wfmU"
      }
    },
    {
      "cell_type": "code",
      "source": [
        "learn.lr_find()"
      ],
      "metadata": {
        "_uuid": "b47aca0422adf3296ee516ad8f28b85bb54a6fd5",
        "trusted": true,
        "colab": {
          "base_uri": "https://localhost:8080/",
          "height": 472
        },
        "id": "FlWFRiuvRfjN",
        "outputId": "8284357b-2a10-4328-fc25-ff425ee882a9"
      },
      "execution_count": 92,
      "outputs": [
        {
          "output_type": "display_data",
          "data": {
            "text/plain": [
              "<IPython.core.display.HTML object>"
            ],
            "text/html": [
              "\n",
              "<style>\n",
              "    /* Turns off some styling */\n",
              "    progress {\n",
              "        /* gets rid of default border in Firefox and Opera. */\n",
              "        border: none;\n",
              "        /* Needs to be in here for Safari polyfill so background images work as expected. */\n",
              "        background-size: auto;\n",
              "    }\n",
              "    progress:not([value]), progress:not([value])::-webkit-progress-bar {\n",
              "        background: repeating-linear-gradient(45deg, #7e7e7e, #7e7e7e 10px, #5c5c5c 10px, #5c5c5c 20px);\n",
              "    }\n",
              "    .progress-bar-interrupted, .progress-bar-interrupted::-webkit-progress-bar {\n",
              "        background: #F44336;\n",
              "    }\n",
              "</style>\n"
            ]
          },
          "metadata": {}
        },
        {
          "output_type": "display_data",
          "data": {
            "text/plain": [
              "<IPython.core.display.HTML object>"
            ],
            "text/html": []
          },
          "metadata": {}
        },
        {
          "output_type": "execute_result",
          "data": {
            "text/plain": [
              "SuggestedLRs(valley=0.0020892962347716093)"
            ]
          },
          "metadata": {},
          "execution_count": 92
        },
        {
          "output_type": "display_data",
          "data": {
            "text/plain": [
              "<Figure size 640x480 with 1 Axes>"
            ],
            "image/png": "[encoded data removed]"
          },
          "metadata": {}
        }
      ]
    },
    {
      "cell_type": "code",
      "source": [
        "learn.fit_one_cycle(12, 3e-3)"
      ],
      "metadata": {
        "_uuid": "2c33d5d95438a4414bf808b46102e0a52483dd60",
        "trusted": true,
        "id": "qG1cmElDRfjP",
        "outputId": "258f5154-1c64-4163-9427-c7bab871a71f",
        "colab": {
          "base_uri": "https://localhost:8080/",
          "height": 426
        }
      },
      "execution_count": 93,
      "outputs": [
        {
          "output_type": "display_data",
          "data": {
            "text/plain": [
              "<IPython.core.display.HTML object>"
            ],
            "text/html": [
              "\n",
              "<style>\n",
              "    /* Turns off some styling */\n",
              "    progress {\n",
              "        /* gets rid of default border in Firefox and Opera. */\n",
              "        border: none;\n",
              "        /* Needs to be in here for Safari polyfill so background images work as expected. */\n",
              "        background-size: auto;\n",
              "    }\n",
              "    progress:not([value]), progress:not([value])::-webkit-progress-bar {\n",
              "        background: repeating-linear-gradient(45deg, #7e7e7e, #7e7e7e 10px, #5c5c5c 10px, #5c5c5c 20px);\n",
              "    }\n",
              "    .progress-bar-interrupted, .progress-bar-interrupted::-webkit-progress-bar {\n",
              "        background: #F44336;\n",
              "    }\n",
              "</style>\n"
            ]
          },
          "metadata": {}
        },
        {
          "output_type": "display_data",
          "data": {
            "text/plain": [
              "<IPython.core.display.HTML object>"
            ],
            "text/html": [
              "<table border=\"1\" class=\"dataframe\">\n",
              "  <thead>\n",
              "    <tr style=\"text-align: left;\">\n",
              "      <th>epoch</th>\n",
              "      <th>train_loss</th>\n",
              "      <th>valid_loss</th>\n",
              "      <th>accuracy</th>\n",
              "      <th>time</th>\n",
              "    </tr>\n",
              "  </thead>\n",
              "  <tbody>\n",
              "    <tr>\n",
              "      <td>0</td>\n",
              "      <td>0.670569</td>\n",
              "      <td>0.645198</td>\n",
              "      <td>0.640449</td>\n",
              "      <td>00:00</td>\n",
              "    </tr>\n",
              "    <tr>\n",
              "      <td>1</td>\n",
              "      <td>0.631898</td>\n",
              "      <td>0.616335</td>\n",
              "      <td>0.662921</td>\n",
              "      <td>00:00</td>\n",
              "    </tr>\n",
              "    <tr>\n",
              "      <td>2</td>\n",
              "      <td>0.580406</td>\n",
              "      <td>0.528923</td>\n",
              "      <td>0.769663</td>\n",
              "      <td>00:00</td>\n",
              "    </tr>\n",
              "    <tr>\n",
              "      <td>3</td>\n",
              "      <td>0.536961</td>\n",
              "      <td>0.521643</td>\n",
              "      <td>0.747191</td>\n",
              "      <td>00:00</td>\n",
              "    </tr>\n",
              "    <tr>\n",
              "      <td>4</td>\n",
              "      <td>0.504223</td>\n",
              "      <td>0.457481</td>\n",
              "      <td>0.758427</td>\n",
              "      <td>00:00</td>\n",
              "    </tr>\n",
              "    <tr>\n",
              "      <td>5</td>\n",
              "      <td>0.472722</td>\n",
              "      <td>0.492035</td>\n",
              "      <td>0.769663</td>\n",
              "      <td>00:00</td>\n",
              "    </tr>\n",
              "    <tr>\n",
              "      <td>6</td>\n",
              "      <td>0.449708</td>\n",
              "      <td>0.486721</td>\n",
              "      <td>0.780899</td>\n",
              "      <td>00:00</td>\n",
              "    </tr>\n",
              "    <tr>\n",
              "      <td>7</td>\n",
              "      <td>0.433321</td>\n",
              "      <td>0.464275</td>\n",
              "      <td>0.792135</td>\n",
              "      <td>00:00</td>\n",
              "    </tr>\n",
              "    <tr>\n",
              "      <td>8</td>\n",
              "      <td>0.415426</td>\n",
              "      <td>0.494111</td>\n",
              "      <td>0.786517</td>\n",
              "      <td>00:00</td>\n",
              "    </tr>\n",
              "    <tr>\n",
              "      <td>9</td>\n",
              "      <td>0.401674</td>\n",
              "      <td>0.474078</td>\n",
              "      <td>0.780899</td>\n",
              "      <td>00:00</td>\n",
              "    </tr>\n",
              "    <tr>\n",
              "      <td>10</td>\n",
              "      <td>0.390589</td>\n",
              "      <td>0.480439</td>\n",
              "      <td>0.803371</td>\n",
              "      <td>00:00</td>\n",
              "    </tr>\n",
              "    <tr>\n",
              "      <td>11</td>\n",
              "      <td>0.380536</td>\n",
              "      <td>0.484297</td>\n",
              "      <td>0.797753</td>\n",
              "      <td>00:00</td>\n",
              "    </tr>\n",
              "  </tbody>\n",
              "</table>"
            ]
          },
          "metadata": {}
        }
      ]
    },
    {
      "cell_type": "markdown",
      "source": [
        "### Replace each categorical value with its embedding vector"
      ],
      "metadata": {
        "id": "jfl6IO8nHzJ4"
      }
    },
    {
      "cell_type": "code",
      "source": [
        "learn.dls.cat_names\n",
        "learn.model.embeds[0]\n",
        "to.train.xs"
      ],
      "metadata": {
        "id": "KyUrnla9PNT0",
        "outputId": "2838957f-700c-47aa-f876-0f465ebb6009",
        "colab": {
          "base_uri": "https://localhost:8080/",
          "height": 424
        }
      },
      "execution_count": 98,
      "outputs": [
        {
          "output_type": "execute_result",
          "data": {
            "text/plain": [
              "     Pclass  Sex  Embarked  Title  Deck       Age      Fare     SibSp  \\\n",
              "188       3    2         2     12     0  0.805648 -0.352836  0.473061   \n",
              "333       3    2         3     12     0 -1.013980 -0.299798  1.409986   \n",
              "203       3    2         1     12     0  1.222646 -0.528389 -0.463863   \n",
              "40        3    1         3     13     0  0.805648 -0.480656  0.473061   \n",
              "273       1    2         1     12     3  0.578194 -0.051583 -0.463863   \n",
              "..      ...  ...       ...    ...   ...       ...       ...       ...   \n",
              "278       3    2         2      8     0 -1.696341 -0.063782  3.283834   \n",
              "393       1    1         1      9     4 -0.483255  1.721456  0.473061   \n",
              "609       1    1         3      9     3  0.805648  2.574032 -0.463863   \n",
              "166       1    1         3     13     5  0.577749  0.485155 -0.463863   \n",
              "7         3    2         3      8     0 -2.075430 -0.234562  2.346910   \n",
              "\n",
              "        Parch  \n",
              "188  0.753662  \n",
              "333 -0.478818  \n",
              "203 -0.478818  \n",
              "40  -0.478818  \n",
              "273  0.753662  \n",
              "..        ...  \n",
              "278  0.753662  \n",
              "393 -0.478818  \n",
              "609 -0.478818  \n",
              "166  0.753662  \n",
              "7    0.753662  \n",
              "\n",
              "[713 rows x 9 columns]"
            ],
            "text/html": [
              "\n",
              "  <div id=\"df-65aa1b2d-3487-4bb9-ae59-6bce9978dc83\">\n",
              "    <div class=\"colab-df-container\">\n",
              "      <div>\n",
              "<style scoped>\n",
              "    .dataframe tbody tr th:only-of-type {\n",
              "        vertical-align: middle;\n",
              "    }\n",
              "\n",
              "    .dataframe tbody tr th {\n",
              "        vertical-align: top;\n",
              "    }\n",
              "\n",
              "    .dataframe thead th {\n",
              "        text-align: right;\n",
              "    }\n",
              "</style>\n",
              "<table border=\"1\" class=\"dataframe\">\n",
              "  <thead>\n",
              "    <tr style=\"text-align: right;\">\n",
              "      <th></th>\n",
              "      <th>Pclass</th>\n",
              "      <th>Sex</th>\n",
              "      <th>Embarked</th>\n",
              "      <th>Title</th>\n",
              "      <th>Deck</th>\n",
              "      <th>Age</th>\n",
              "      <th>Fare</th>\n",
              "      <th>SibSp</th>\n",
              "      <th>Parch</th>\n",
              "    </tr>\n",
              "  </thead>\n",
              "  <tbody>\n",
              "    <tr>\n",
              "      <th>188</th>\n",
              "      <td>3</td>\n",
              "      <td>2</td>\n",
              "      <td>2</td>\n",
              "      <td>12</td>\n",
              "      <td>0</td>\n",
              "      <td>0.805648</td>\n",
              "      <td>-0.352836</td>\n",
              "      <td>0.473061</td>\n",
              "      <td>0.753662</td>\n",
              "    </tr>\n",
              "    <tr>\n",
              "      <th>333</th>\n",
              "      <td>3</td>\n",
              "      <td>2</td>\n",
              "      <td>3</td>\n",
              "      <td>12</td>\n",
              "      <td>0</td>\n",
              "      <td>-1.013980</td>\n",
              "      <td>-0.299798</td>\n",
              "      <td>1.409986</td>\n",
              "      <td>-0.478818</td>\n",
              "    </tr>\n",
              "    <tr>\n",
              "      <th>203</th>\n",
              "      <td>3</td>\n",
              "      <td>2</td>\n",
              "      <td>1</td>\n",
              "      <td>12</td>\n",
              "      <td>0</td>\n",
              "      <td>1.222646</td>\n",
              "      <td>-0.528389</td>\n",
              "      <td>-0.463863</td>\n",
              "      <td>-0.478818</td>\n",
              "    </tr>\n",
              "    <tr>\n",
              "      <th>40</th>\n",
              "      <td>3</td>\n",
              "      <td>1</td>\n",
              "      <td>3</td>\n",
              "      <td>13</td>\n",
              "      <td>0</td>\n",
              "      <td>0.805648</td>\n",
              "      <td>-0.480656</td>\n",
              "      <td>0.473061</td>\n",
              "      <td>-0.478818</td>\n",
              "    </tr>\n",
              "    <tr>\n",
              "      <th>273</th>\n",
              "      <td>1</td>\n",
              "      <td>2</td>\n",
              "      <td>1</td>\n",
              "      <td>12</td>\n",
              "      <td>3</td>\n",
              "      <td>0.578194</td>\n",
              "      <td>-0.051583</td>\n",
              "      <td>-0.463863</td>\n",
              "      <td>0.753662</td>\n",
              "    </tr>\n",
              "    <tr>\n",
              "      <th>...</th>\n",
              "      <td>...</td>\n",
              "      <td>...</td>\n",
              "      <td>...</td>\n",
              "      <td>...</td>\n",
              "      <td>...</td>\n",
              "      <td>...</td>\n",
              "      <td>...</td>\n",
              "      <td>...</td>\n",
              "      <td>...</td>\n",
              "    </tr>\n",
              "    <tr>\n",
              "      <th>278</th>\n",
              "      <td>3</td>\n",
              "      <td>2</td>\n",
              "      <td>2</td>\n",
              "      <td>8</td>\n",
              "      <td>0</td>\n",
              "      <td>-1.696341</td>\n",
              "      <td>-0.063782</td>\n",
              "      <td>3.283834</td>\n",
              "      <td>0.753662</td>\n",
              "    </tr>\n",
              "    <tr>\n",
              "      <th>393</th>\n",
              "      <td>1</td>\n",
              "      <td>1</td>\n",
              "      <td>1</td>\n",
              "      <td>9</td>\n",
              "      <td>4</td>\n",
              "      <td>-0.483255</td>\n",
              "      <td>1.721456</td>\n",
              "      <td>0.473061</td>\n",
              "      <td>-0.478818</td>\n",
              "    </tr>\n",
              "    <tr>\n",
              "      <th>609</th>\n",
              "      <td>1</td>\n",
              "      <td>1</td>\n",
              "      <td>3</td>\n",
              "      <td>9</td>\n",
              "      <td>3</td>\n",
              "      <td>0.805648</td>\n",
              "      <td>2.574032</td>\n",
              "      <td>-0.463863</td>\n",
              "      <td>-0.478818</td>\n",
              "    </tr>\n",
              "    <tr>\n",
              "      <th>166</th>\n",
              "      <td>1</td>\n",
              "      <td>1</td>\n",
              "      <td>3</td>\n",
              "      <td>13</td>\n",
              "      <td>5</td>\n",
              "      <td>0.577749</td>\n",
              "      <td>0.485155</td>\n",
              "      <td>-0.463863</td>\n",
              "      <td>0.753662</td>\n",
              "    </tr>\n",
              "    <tr>\n",
              "      <th>7</th>\n",
              "      <td>3</td>\n",
              "      <td>2</td>\n",
              "      <td>3</td>\n",
              "      <td>8</td>\n",
              "      <td>0</td>\n",
              "      <td>-2.075430</td>\n",
              "      <td>-0.234562</td>\n",
              "      <td>2.346910</td>\n",
              "      <td>0.753662</td>\n",
              "    </tr>\n",
              "  </tbody>\n",
              "</table>\n",
              "<p>713 rows × 9 columns</p>\n",
              "</div>\n",
              "      <button class=\"colab-df-convert\" onclick=\"convertToInteractive('df-65aa1b2d-3487-4bb9-ae59-6bce9978dc83')\"\n",
              "              title=\"Convert this dataframe to an interactive table.\"\n",
              "              style=\"display:none;\">\n",
              "        \n",
              "  <svg xmlns=\"http://www.w3.org/2000/svg\" height=\"24px\"viewBox=\"0 0 24 24\"\n",
              "       width=\"24px\">\n",
              "    <path d=\"M0 0h24v24H0V0z\" fill=\"none\"/>\n",
              "    <path d=\"M18.56 5.44l.94 2.06.94-2.06 2.06-.94-2.06-.94-.94-2.06-.94 2.06-2.06.94zm-11 1L8.5 8.5l.94-2.06 2.06-.94-2.06-.94L8.5 2.5l-.94 2.06-2.06.94zm10 10l.94 2.06.94-2.06 2.06-.94-2.06-.94-.94-2.06-.94 2.06-2.06.94z\"/><path d=\"M17.41 7.96l-1.37-1.37c-.4-.4-.92-.59-1.43-.59-.52 0-1.04.2-1.43.59L10.3 9.45l-7.72 7.72c-.78.78-.78 2.05 0 2.83L4 21.41c.39.39.9.59 1.41.59.51 0 1.02-.2 1.41-.59l7.78-7.78 2.81-2.81c.8-.78.8-2.07 0-2.86zM5.41 20L4 18.59l7.72-7.72 1.47 1.35L5.41 20z\"/>\n",
              "  </svg>\n",
              "      </button>\n",
              "      \n",
              "  <style>\n",
              "    .colab-df-container {\n",
              "      display:flex;\n",
              "      flex-wrap:wrap;\n",
              "      gap: 12px;\n",
              "    }\n",
              "\n",
              "    .colab-df-convert {\n",
              "      background-color: #E8F0FE;\n",
              "      border: none;\n",
              "      border-radius: 50%;\n",
              "      cursor: pointer;\n",
              "      display: none;\n",
              "      fill: #1967D2;\n",
              "      height: 32px;\n",
              "      padding: 0 0 0 0;\n",
              "      width: 32px;\n",
              "    }\n",
              "\n",
              "    .colab-df-convert:hover {\n",
              "      background-color: #E2EBFA;\n",
              "      box-shadow: 0px 1px 2px rgba(60, 64, 67, 0.3), 0px 1px 3px 1px rgba(60, 64, 67, 0.15);\n",
              "      fill: #174EA6;\n",
              "    }\n",
              "\n",
              "    [theme=dark] .colab-df-convert {\n",
              "      background-color: #3B4455;\n",
              "      fill: #D2E3FC;\n",
              "    }\n",
              "\n",
              "    [theme=dark] .colab-df-convert:hover {\n",
              "      background-color: #434B5C;\n",
              "      box-shadow: 0px 1px 3px 1px rgba(0, 0, 0, 0.15);\n",
              "      filter: drop-shadow(0px 1px 2px rgba(0, 0, 0, 0.3));\n",
              "      fill: #FFFFFF;\n",
              "    }\n",
              "  </style>\n",
              "\n",
              "      <script>\n",
              "        const buttonEl =\n",
              "          document.querySelector('#df-65aa1b2d-3487-4bb9-ae59-6bce9978dc83 button.colab-df-convert');\n",
              "        buttonEl.style.display =\n",
              "          google.colab.kernel.accessAllowed ? 'block' : 'none';\n",
              "\n",
              "        async function convertToInteractive(key) {\n",
              "          const element = document.querySelector('#df-65aa1b2d-3487-4bb9-ae59-6bce9978dc83');\n",
              "          const dataTable =\n",
              "            await google.colab.kernel.invokeFunction('convertToInteractive',\n",
              "                                                     [key], {});\n",
              "          if (!dataTable) return;\n",
              "\n",
              "          const docLinkHtml = 'Like what you see? Visit the ' +\n",
              "            '<a target=\"_blank\" href=https://colab.research.google.com/notebooks/data_table.ipynb>data table notebook</a>'\n",
              "            + ' to learn more about interactive tables.';\n",
              "          element.innerHTML = '';\n",
              "          dataTable['output_type'] = 'display_data';\n",
              "          await google.colab.output.renderOutput(dataTable, element);\n",
              "          const docLink = document.createElement('div');\n",
              "          docLink.innerHTML = docLinkHtml;\n",
              "          element.appendChild(docLink);\n",
              "        }\n",
              "      </script>\n",
              "    </div>\n",
              "  </div>\n",
              "  "
            ]
          },
          "metadata": {},
          "execution_count": 98
        }
      ]
    },
    {
      "cell_type": "code",
      "source": [
        "# from https://towardsdatascience.com/entity-embeddings-for-ml-2387eb68e49\n",
        "def embed_features(learner, xs):\n",
        "  \"\"\"\n",
        "  learner: fastai Learner used to train the neural net\n",
        "  xs: DataFrame containing input variables. Categorical values are defined by their rank. \n",
        " ::return:: copy of `xs` with embeddings replacing each categorical variable\n",
        "  \"\"\"\n",
        "  xs = xs.copy()\n",
        "  for i,col in enumerate(learn.dls.cat_names):\n",
        "    \n",
        "    # get matrix containing each row's embedding vector\n",
        "    emb = learn.model.embeds[i]\n",
        "    emb_data = emb(tensor(xs[col], dtype=torch.int64))\n",
        "    emb_names = [f'{col}_{j}' for j in range(emb_data.shape[1])]\n",
        "    \n",
        "    # join the embedded category and drop the old feature column\n",
        "    feat_df = pd.DataFrame(data=emb_data, index=xs.index,               \n",
        "                           columns=emb_names)\n",
        "    xs = xs.drop(col, axis=1)\n",
        "    xs = xs.join(feat_df)\n",
        "  return xs\n"
      ],
      "metadata": {
        "id": "spx4rqvrH2JP",
        "outputId": "2506b899-cc15-438a-cd20-acfd877934d9",
        "colab": {
          "base_uri": "https://localhost:8080/"
        }
      },
      "execution_count": 94,
      "outputs": [
        {
          "output_type": "stream",
          "name": "stdout",
          "text": [
            "     Pclass_0  Pclass_1  Pclass_2     Sex_0     Sex_1     Sex_2  Embarked_0  \\\n",
            "548  0.026924 -0.059794 -0.089158 -0.021211 -0.062563 -0.036905    0.046291   \n",
            "810  0.026924 -0.059794 -0.089158 -0.021211 -0.062563 -0.036905    0.046291   \n",
            "179  0.026924 -0.059794 -0.089158 -0.021211 -0.062563 -0.036905    0.046291   \n",
            "\n",
            "     Embarked_1  Embarked_2   Title_0  ...   Title_3   Title_4   Title_5  \\\n",
            "548   -0.018686   -0.062492  0.064351  ...  0.054455 -0.062777 -0.012065   \n",
            "810   -0.018686   -0.062492  0.064351  ...  0.054455 -0.062777 -0.012065   \n",
            "179   -0.018686   -0.062492  0.064351  ...  0.054455 -0.062777 -0.012065   \n",
            "\n",
            "      Title_6   Title_7    Deck_0    Deck_1    Deck_2    Deck_3    Deck_4  \n",
            "548 -0.041705 -0.062046  0.024757 -0.008766 -0.044534 -0.029898  0.004385  \n",
            "810 -0.041705 -0.062046  0.024757 -0.008766 -0.044534 -0.029898  0.004385  \n",
            "179 -0.041705 -0.062046  0.024757 -0.008766 -0.044534 -0.029898  0.004385  \n",
            "\n",
            "[3 rows x 22 columns]\n",
            "    Pclass     Sex Embarked  Title Deck\n",
            "10       3  female        S  Miss.    G\n",
            "11       1  female        S  Miss.    C\n",
            "12       3    male        S    Mr.  NaN\n"
          ]
        }
      ]
    },
    {
      "cell_type": "code",
      "source": [
        "# show embeddings and raw (original) variables\n",
        "emb_train_xs = embed_features(learn, to.train.xs)\n",
        "emb_valid_xs = embed_features(learn, to.valid.xs)\n",
        "print(emb_train_xs.iloc[10:13,~emb_train_xs.columns.isin(cont_names)]) # embeddings\n",
        "print(train_df.iloc[10:13][cat_names]) # original variables"
      ],
      "metadata": {
        "id": "Ru8-cMcNOvQp"
      },
      "execution_count": null,
      "outputs": []
    },
    {
      "cell_type": "code",
      "source": [
        "import numpy as np\n",
        "import matplotlib.pyplot as plt\n",
        "from sklearn.discriminant_analysis import LinearDiscriminantAnalysis\n",
        "import seaborn as sns\n",
        "titleCols=[x for x in emb_xs.columns if 'Title' in x]\n",
        "X=array(emb_train_xs[titleCols])\n",
        "y=array(to.train.items['Title'])\n",
        "Z=np.concatenate((X,np.reshape(y, (X.shape[0], 1))),axis=1)\n",
        "Z=np.unique(Z, axis=0)\n",
        "X=Z[:, :-1]\n",
        "print(X.shape)\n",
        "y=Z[:,-1]\n",
        "print(y.shape)\n",
        "target_names=train_df['Title'].unique()\n",
        "colors = sns.color_palette(None, len(target_names))\n",
        "lda = LinearDiscriminantAnalysis(n_components=2)\n",
        "X_r = lda.fit(X, y).transform(X)\n",
        "lw = 2\n",
        "for color, i, target_name in zip(colors, [0, 1, 2], target_names):\n",
        "    plt.scatter(X_r[y == i, 0], X_r[y == i, 1], color=color, alpha=.8, lw=lw,\n",
        "                label=target_name)\n",
        "plt.legend(loc='best', shadow=False, scatterpoints=1)\n",
        "plt.title('LDA of Title')\n",
        "plt.show()\n"
      ],
      "metadata": {
        "id": "6-DIemhTJnT-",
        "outputId": "40a4820e-348d-4184-acd6-0421db1fc512",
        "colab": {
          "base_uri": "https://localhost:8080/",
          "height": 401
        }
      },
      "execution_count": 148,
      "outputs": [
        {
          "output_type": "stream",
          "name": "stdout",
          "text": [
            "(13, 8)\n",
            "(13,)\n"
          ]
        },
        {
          "output_type": "error",
          "ename": "ValueError",
          "evalue": "ignored",
          "traceback": [
            "\u001b[0;31m---------------------------------------------------------------------------\u001b[0m",
            "\u001b[0;31mValueError\u001b[0m                                Traceback (most recent call last)",
            "\u001b[0;32m<ipython-input-148-d45f7103a590>\u001b[0m in \u001b[0;36m<cell line: 17>\u001b[0;34m()\u001b[0m\n\u001b[1;32m     15\u001b[0m \u001b[0mcolors\u001b[0m \u001b[0;34m=\u001b[0m \u001b[0msns\u001b[0m\u001b[0;34m.\u001b[0m\u001b[0mcolor_palette\u001b[0m\u001b[0;34m(\u001b[0m\u001b[0;32mNone\u001b[0m\u001b[0;34m,\u001b[0m \u001b[0mlen\u001b[0m\u001b[0;34m(\u001b[0m\u001b[0mtarget_names\u001b[0m\u001b[0;34m)\u001b[0m\u001b[0;34m)\u001b[0m\u001b[0;34m\u001b[0m\u001b[0;34m\u001b[0m\u001b[0m\n\u001b[1;32m     16\u001b[0m \u001b[0mlda\u001b[0m \u001b[0;34m=\u001b[0m \u001b[0mLinearDiscriminantAnalysis\u001b[0m\u001b[0;34m(\u001b[0m\u001b[0mn_components\u001b[0m\u001b[0;34m=\u001b[0m\u001b[0;36m2\u001b[0m\u001b[0;34m)\u001b[0m\u001b[0;34m\u001b[0m\u001b[0;34m\u001b[0m\u001b[0m\n\u001b[0;32m---> 17\u001b[0;31m \u001b[0mX_r\u001b[0m \u001b[0;34m=\u001b[0m \u001b[0mlda\u001b[0m\u001b[0;34m.\u001b[0m\u001b[0mfit\u001b[0m\u001b[0;34m(\u001b[0m\u001b[0mX\u001b[0m\u001b[0;34m,\u001b[0m \u001b[0my\u001b[0m\u001b[0;34m)\u001b[0m\u001b[0;34m.\u001b[0m\u001b[0mtransform\u001b[0m\u001b[0;34m(\u001b[0m\u001b[0mX\u001b[0m\u001b[0;34m)\u001b[0m\u001b[0;34m\u001b[0m\u001b[0;34m\u001b[0m\u001b[0m\n\u001b[0m\u001b[1;32m     18\u001b[0m \u001b[0mlw\u001b[0m \u001b[0;34m=\u001b[0m \u001b[0;36m2\u001b[0m\u001b[0;34m\u001b[0m\u001b[0;34m\u001b[0m\u001b[0m\n\u001b[1;32m     19\u001b[0m \u001b[0;32mfor\u001b[0m \u001b[0mcolor\u001b[0m\u001b[0;34m,\u001b[0m \u001b[0mi\u001b[0m\u001b[0;34m,\u001b[0m \u001b[0mtarget_name\u001b[0m \u001b[0;32min\u001b[0m \u001b[0mzip\u001b[0m\u001b[0;34m(\u001b[0m\u001b[0mcolors\u001b[0m\u001b[0;34m,\u001b[0m \u001b[0;34m[\u001b[0m\u001b[0;36m0\u001b[0m\u001b[0;34m,\u001b[0m \u001b[0;36m1\u001b[0m\u001b[0;34m,\u001b[0m \u001b[0;36m2\u001b[0m\u001b[0;34m]\u001b[0m\u001b[0;34m,\u001b[0m \u001b[0mtarget_names\u001b[0m\u001b[0;34m)\u001b[0m\u001b[0;34m:\u001b[0m\u001b[0;34m\u001b[0m\u001b[0;34m\u001b[0m\u001b[0m\n",
            "\u001b[0;32m/usr/local/lib/python3.9/dist-packages/sklearn/discriminant_analysis.py\u001b[0m in \u001b[0;36mfit\u001b[0;34m(self, X, y)\u001b[0m\n\u001b[1;32m    581\u001b[0m \u001b[0;34m\u001b[0m\u001b[0m\n\u001b[1;32m    582\u001b[0m         \u001b[0;32mif\u001b[0m \u001b[0mn_samples\u001b[0m \u001b[0;34m==\u001b[0m \u001b[0mn_classes\u001b[0m\u001b[0;34m:\u001b[0m\u001b[0;34m\u001b[0m\u001b[0;34m\u001b[0m\u001b[0m\n\u001b[0;32m--> 583\u001b[0;31m             raise ValueError(\n\u001b[0m\u001b[1;32m    584\u001b[0m                 \u001b[0;34m\"The number of samples must be more than the number of classes.\"\u001b[0m\u001b[0;34m\u001b[0m\u001b[0;34m\u001b[0m\u001b[0m\n\u001b[1;32m    585\u001b[0m             )\n",
            "\u001b[0;31mValueError\u001b[0m: The number of samples must be more than the number of classes."
          ]
        }
      ]
    },
    {
      "cell_type": "code",
      "source": [
        "X"
      ],
      "metadata": {
        "id": "GXWJf18obvYU",
        "outputId": "1f3cda9e-c94d-407c-cdc9-ea480b067a2e",
        "colab": {
          "base_uri": "https://localhost:8080/"
        }
      },
      "execution_count": 144,
      "outputs": [
        {
          "output_type": "execute_result",
          "data": {
            "text/plain": [
              "array([-0.07104684, -0.05394547, -0.04146624, -0.00495211, -0.00225844,\n",
              "        0.00697421,  0.01212738,  0.03180639,  0.05471003,  0.06435076],\n",
              "      dtype=float32)"
            ]
          },
          "metadata": {},
          "execution_count": 144
        }
      ]
    },
    {
      "cell_type": "code",
      "source": [
        "X.round(3)"
      ],
      "metadata": {
        "id": "ibmH_zA-TNzN",
        "outputId": "7e3070f3-777a-4f82-d49f-457bb5c3933b",
        "colab": {
          "base_uri": "https://localhost:8080/"
        }
      },
      "execution_count": 149,
      "outputs": [
        {
          "output_type": "execute_result",
          "data": {
            "text/plain": [
              "array([[-0.071, -0.029,  0.066, -0.07 ,  0.074, -0.008,  0.081,  0.058],\n",
              "       [-0.064, -0.033,  0.058, -0.051,  0.049, -0.016,  0.045,  0.022],\n",
              "       [-0.054, -0.06 ,  0.033, -0.063,  0.056, -0.004,  0.031,  0.059],\n",
              "       [-0.053, -0.024,  0.038, -0.047,  0.027,  0.016, -0.012,  0.029],\n",
              "       [-0.041, -0.044,  0.033, -0.035,  0.054, -0.009, -0.013,  0.042],\n",
              "       [-0.005, -0.041,  0.032, -0.006,  0.025,  0.018, -0.011,  0.043],\n",
              "       [ 0.02 ,  0.02 ,  0.017,  0.007,  0.011, -0.016,  0.014,  0.006],\n",
              "       [ 0.029,  0.043, -0.052,  0.054, -0.045,  0.055, -0.039, -0.043],\n",
              "       [ 0.032,  0.034, -0.055,  0.057, -0.053,  0.048, -0.041, -0.059],\n",
              "       [ 0.053,  0.03 , -0.035,  0.064, -0.044,  0.07 , -0.046, -0.067],\n",
              "       [ 0.055,  0.028, -0.04 ,  0.052, -0.069, -0.004, -0.057, -0.054],\n",
              "       [ 0.064,  0.033, -0.067,  0.054, -0.063, -0.012, -0.042, -0.062],\n",
              "       [ 0.069,  0.074, -0.089,  0.109, -0.106,  0.023, -0.068, -0.089]],\n",
              "      dtype=float32)"
            ]
          },
          "metadata": {},
          "execution_count": 149
        }
      ]
    },
    {
      "cell_type": "code",
      "source": [
        "y.round(0)"
      ],
      "metadata": {
        "id": "p84PJVKJVx4S",
        "outputId": "3a3a22ad-bd15-4306-9043-70ddeb852e25",
        "colab": {
          "base_uri": "https://localhost:8080/"
        }
      },
      "execution_count": 150,
      "outputs": [
        {
          "output_type": "execute_result",
          "data": {
            "text/plain": [
              "array([13., 14.,  8., 10.,  9., 11.,  7.,  5.,  4.,  1.,  2., 12., 15.],\n",
              "      dtype=float32)"
            ]
          },
          "metadata": {},
          "execution_count": 150
        }
      ]
    },
    {
      "cell_type": "code",
      "source": [
        "Z=np.concatenate((X,np.reshape(y, (X.shape[0], 1))),axis=1)\n",
        "np.unique(Z, axis=0)"
      ],
      "metadata": {
        "id": "ojp2rnrxWxPY",
        "outputId": "0afbf630-d542-493e-a5f6-74e81d977d5c",
        "colab": {
          "base_uri": "https://localhost:8080/"
        }
      },
      "execution_count": 142,
      "outputs": [
        {
          "output_type": "execute_result",
          "data": {
            "text/plain": [
              "array([[-7.1046837e-02, -2.8997768e-02,  6.5503955e-02, -6.9798924e-02,\n",
              "         7.4058205e-02, -7.5806021e-03,  8.1317104e-02,  5.8215998e-02,\n",
              "         1.3000000e+01],\n",
              "       [ 6.4350761e-02,  3.3170056e-02, -6.6726126e-02,  5.4454848e-02,\n",
              "        -6.2776990e-02, -1.2065493e-02, -4.1705027e-02, -6.2045962e-02,\n",
              "         1.2000000e+01]], dtype=float32)"
            ]
          },
          "metadata": {},
          "execution_count": 142
        }
      ]
    },
    {
      "cell_type": "code",
      "source": [
        "np.reshape(y, (X.shape[0], 1))\n"
      ],
      "metadata": {
        "id": "5R6ZaunbZsu6",
        "outputId": "afae21fa-94fc-414d-af71-7ef370a35fca",
        "colab": {
          "base_uri": "https://localhost:8080/"
        }
      },
      "execution_count": 138,
      "outputs": [
        {
          "output_type": "execute_result",
          "data": {
            "text/plain": [
              "array([[12],\n",
              "       [13],\n",
              "       [13],\n",
              "       [12],\n",
              "       [13],\n",
              "       [12],\n",
              "       [12],\n",
              "       [13],\n",
              "       [12],\n",
              "       [13],\n",
              "       [12],\n",
              "       [12],\n",
              "       [12],\n",
              "       [13],\n",
              "       [12],\n",
              "       [12],\n",
              "       [12],\n",
              "       [12],\n",
              "       [13],\n",
              "       [12]], dtype=int8)"
            ]
          },
          "metadata": {},
          "execution_count": 138
        }
      ]
    },
    {
      "cell_type": "code",
      "source": [
        "X.shape"
      ],
      "metadata": {
        "id": "c-FLDz1kasfi",
        "outputId": "cdf0a138-f619-4245-af7c-26ef72655635",
        "colab": {
          "base_uri": "https://localhost:8080/"
        }
      },
      "execution_count": 139,
      "outputs": [
        {
          "output_type": "execute_result",
          "data": {
            "text/plain": [
              "(20, 8)"
            ]
          },
          "metadata": {},
          "execution_count": 139
        }
      ]
    },
    {
      "cell_type": "code",
      "source": [],
      "metadata": {
        "id": "fQcI-p99avuK"
      },
      "execution_count": null,
      "outputs": []
    }
  ]
}